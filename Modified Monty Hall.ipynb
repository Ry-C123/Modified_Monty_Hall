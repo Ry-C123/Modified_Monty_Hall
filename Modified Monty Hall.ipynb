{
 "cells": [
  {
   "cell_type": "markdown",
   "id": "47225149",
   "metadata": {},
   "source": [
    "# The Modified Monty Hall Problem\n",
    "\n",
    "---\n",
    "\n",
    "### The original problem\n",
    "\n",
    "The Monty Hall Problem is famous for it's unintuitive nature. Imagine that you are a contestant on a game show and are presented with three doors. Behind one of the doors is a car, and behind the other two doors is a goat. Initially, you choose one of the three doors, but the door remains closed for the time being.\n",
    "\n",
    "Once you've made your selection, the game show host, who knows what is behind each door, opens one of the other two doors to reveal a goat. Importantly, the host will always choose a door with a goat behind it.\n",
    "\n",
    "At this point, you are faced with a decision: stick with your original choice or switch to the other unopened door. The question is, what should you do to maximize your chances of winning the valuable prize?\n",
    "\n",
    "The surprising answer to the Monty Hall problem is that you should always switch doors. By switching, your probability of winning the valuable prize increases from 1/3 to 2/3, while sticking with your original choice only gives you a 1/3 chance of winning.\n",
    "\n",
    "---\n",
    "\n",
    "### Modifying the Problem\n",
    "\n",
    "![Blue Goat](BG.PNG)\n",
    "\n",
    "\n",
    "Monty Hall isn't always so generous, in the above example you always get the oppurtunity to switch. But sometimes, when you pick a goat, you are left with the door you picked. Introducing the blue goat! If you pick the blue goat you do not get a chance to swicth doors. Does this affect the switching strategy? Spoiler, it does!\n"
   ]
  },
  {
   "cell_type": "code",
   "execution_count": 1,
   "id": "a26b1933",
   "metadata": {},
   "outputs": [
    {
     "name": "stdout",
     "output_type": "stream",
     "text": [
      "Win Proportion: 0.333054\n",
      "Win Proportion when switching: 0.5008843009510747\n"
     ]
    }
   ],
   "source": [
    "import random\n",
    "import numpy as np\n",
    "import matplotlib.pyplot as plt\n",
    "\n",
    "W = 0 #Number of wins\n",
    "L = 0 #Number of losses\n",
    "Switches = 0 #Number of chances to Switch\n",
    "N = 500000 #Number of games\n",
    "\n",
    "Doors = ['G','BG','C'] #Goat, Blue goat, Car\n",
    "for i in range(N):\n",
    "    random.shuffle(Doors)# Shuffle the doors\n",
    "    pick = random.randint(0,2)#Pick a random door\n",
    "    if Doors[pick] == 'BG' or Doors[pick] == 'C':        \n",
    "        L += 1\n",
    "        Switches += 1 if Doors[pick] == 'C' else 0\n",
    "    else:\n",
    "        Switches += 1\n",
    "        W += 1\n",
    "print(\"Win Proportion:\", str(W/N))\n",
    "print(\"Win Proportion when switching:\", str(W/Switches))"
   ]
  },
  {
   "cell_type": "markdown",
   "id": "065768c7",
   "metadata": {},
   "source": [
    "So, when you're limited on when you can switch, the liklihood you'll win drops down to a third. Further, when you have the chance to switch, your odds become 50/50. Thus, there is no winning strategy when the blue goat guarentees no chance to change doors. \n",
    "\n",
    "---\n",
    "\n",
    "### What happens if the blue got has a *chance* of not switching?\n",
    "\n",
    "Good question, what happens if you pick the goat and there's **P** chance you *don't* get to switch... maths time\n",
    "\n",
    "\n",
    "So we know:\n",
    "* If you pick the car first you will always lose if you swicth. There's a 1/3 chance you lose\n",
    "* If you pick the regular goat you will always win. There's 1/3 chance you win\n",
    "* If you pick the blue goat there's a 1/3**P** chance you lose and 1/3(1-**P**) chance you win\n",
    "\n",
    "Therefore your chances of winning become:\n",
    "$$C_w = \\dfrac{1}{3} + \\dfrac{1}{3}(1-P) = \\dfrac{1}{3}(2-P) $$"
   ]
  },
  {
   "cell_type": "code",
   "execution_count": 2,
   "id": "26c08470",
   "metadata": {},
   "outputs": [
    {
     "name": "stdout",
     "output_type": "stream",
     "text": [
      "Probabilty of switching with the Blue goat = 0\n",
      "Proportion of wins: 0.333162    Switching wins:0.333162\n",
      "Prediction: 0.6666666666666666\n",
      "-----------------------\n",
      "Probabilty of switching with the Blue goat = 0.1\n",
      "Proportion of wins: 0.333214    Switching wins:0.3448549227731298\n",
      "Prediction: 0.6333333333333333\n",
      "-----------------------\n",
      "Probabilty of switching with the Blue goat = 0.3\n",
      "Proportion of wins: 0.331848    Switching wins:0.36872491633221777\n",
      "Prediction: 0.5666666666666667\n",
      "-----------------------\n",
      "Probabilty of switching with the Blue goat = 0.5\n",
      "Proportion of wins: 0.33335    Switching wins:0.3996034533602173\n",
      "Prediction: 0.5\n",
      "-----------------------\n",
      "Probabilty of switching with the Blue goat = 0.7\n",
      "Proportion of wins: 0.333028    Switching wins:0.4342997537870884\n",
      "Prediction: 0.43333333333333335\n",
      "-----------------------\n",
      "Probabilty of switching with the Blue goat = 0.9\n",
      "Proportion of wins: 0.333072    Switching wins:0.47630433414749945\n",
      "Prediction: 0.3666666666666667\n",
      "-----------------------\n",
      "Probabilty of switching with the Blue goat = 1.0\n",
      "Proportion of wins: 0.333128    Switching wins:0.49925515174222557\n",
      "Prediction: 0.3333333333333333\n",
      "-----------------------\n"
     ]
    }
   ],
   "source": [
    "for P in [0,0.1,0.3,0.5,0.7,0.9,1.0]: #Probability of not switching\n",
    "    W = 0\n",
    "    L = 0\n",
    "    Switches = 0\n",
    "    for i in range(N):\n",
    "        random.shuffle(Doors)\n",
    "        pick = random.randint(0, 2)\n",
    "        if Doors[pick] == 'BG' and random.uniform(0,1)<=P:\n",
    "            L+=1\n",
    "        elif Doors[pick] == 'G':\n",
    "            Switches+=1\n",
    "            W+=1\n",
    "        else:\n",
    "            Switches+=1\n",
    "    print('Probabilty of switching with the Blue goat = '+str(P)) \n",
    "    print(\"Proportion of wins: \"+str(W/N)+\"    Switching wins:\"+str(W/Switches))\n",
    "    print(\"Prediction: \"+str(1./3*(2-P)))\n",
    "    print('-----------------------')\n"
   ]
  },
  {
   "cell_type": "markdown",
   "id": "a5adbc44",
   "metadata": {},
   "source": [
    "So, unless there is 100% chance that picking the blue goat stops you from choosing another door, it is always best to switch doors.\n",
    "\n",
    "---\n",
    "\n",
    "## You want more?!?!\n",
    "\n",
    "Fine! Lets say there's a chance that both goats have their own unique probabilty of locking you in. Well I'll leave the deduction as an exercise to the reader (yeah it's like that). You should get a chance of winning:\n",
    "\n",
    "$$C_w = \\dfrac{2}{3} - \\dfrac{1}{3}(P_1 + P_2)$$"
   ]
  },
  {
   "cell_type": "code",
   "execution_count": 3,
   "id": "dd4a513e",
   "metadata": {},
   "outputs": [
    {
     "name": "stdout",
     "output_type": "stream",
     "text": [
      "Proportion of wins: 0.065932    Switching wins:0.16517769905651397\n",
      "Prediction: 0.06666666666666665\n"
     ]
    }
   ],
   "source": [
    "P1 = 0.9\n",
    "P2 = 0.9\n",
    "W = 0\n",
    "L = 0\n",
    "Switches = 0\n",
    "for i in range(N):\n",
    "    random.shuffle(Doors)\n",
    "    pick = random.randint(0, 2)\n",
    "    if Doors[pick] == 'BG' and random.uniform(0,1)<=P1:\n",
    "        L += 1\n",
    "    elif Doors[pick] == 'G'and random.uniform(0,1)<=P2:\n",
    "        L += 1\n",
    "    elif Doors[pick] == 'C':\n",
    "        L += 1\n",
    "        Switches+=1\n",
    "    else:\n",
    "        W += 1\n",
    "        Switches+=1\n",
    "        \n",
    "print(\"Proportion of wins: \"+str(W/N)+\"    Switching wins:\"+str(W/Switches))\n",
    "print(\"Prediction: \"+str(2./3-1./3*(P1+P2)))"
   ]
  },
  {
   "cell_type": "markdown",
   "id": "c86dd1b7",
   "metadata": {},
   "source": [
    "Something cool here is that you can define the strategy based on $P_1 + P_2 = P_T$. \n",
    "\n",
    "$P_T$ can range between 0 and 2, plotting this against $C_w$ shows us when it becomes beneficial to **not** switch! \n",
    "\n",
    "\n",
    "We can also precict switching win proportion ($S_p$):\n",
    "\n",
    "$$S_p = \\dfrac{P_1+P_2-2}{P_1+P_2-3} = \\dfrac{P_T-2}{P_T-3}$$"
   ]
  },
  {
   "cell_type": "code",
   "execution_count": 4,
   "id": "ebd9b7e1",
   "metadata": {},
   "outputs": [
    {
     "data": {
      "image/png": "[encoded data removed]",
      "text/plain": [
       "<Figure size 432x288 with 1 Axes>"
      ]
     },
     "metadata": {
      "needs_background": "light"
     },
     "output_type": "display_data"
    }
   ],
   "source": [
    "PT = np.linspace(0,2, 1000)\n",
    "Cw = 2./3-1/3*(PT)\n",
    "Sp = (PT-2)/(PT-3)\n",
    "\n",
    "plt.plot(PT, Cw, label=r'$C_w$')\n",
    "plt.plot(PT, Sp, label=r'$S_p$')\n",
    "plt.axhline(0.5, c='k', ls=':')\n",
    "plt.axvline(1.0, c='k', ls=':')\n",
    "plt.xlabel(r\"$P_T$\")\n",
    "plt.legend()\n",
    "plt.show()"
   ]
  },
  {
   "cell_type": "markdown",
   "id": "70ba7acd",
   "metadata": {},
   "source": [
    "Looking at the graph we can say, if the sum of the probabilty ($P_T$) is less than 1 it is better to switch the door when given the option. If the sum of the probabilty is greater than 1 it is better to keep the door you originally chose. Only when the probabilty is exactly 1.0, there is no winning strategy!\n",
    "\n",
    "$$\n",
    "Strategy =\n",
    "\\begin{cases}\n",
    "\\text{Switch} & \\quad \\text{when $P_T < 1$}\\\\ \n",
    "\\text{Coin Toss} & \\quad \\text{when $P_T = 1$}\\\\\n",
    "\\text{Stick} & \\quad \\text{when $P_T > 1$}\n",
    "\\end{cases}\n",
    "$$\n",
    "\n",
    "---\n",
    "\n",
    "### More Doors, More Cars, More Goats!\n",
    "\n",
    "Okay, lets go mad. What happens if you have $N_{Doors}$ with a random, but known, number of cars and goats. Where every goat has their own probabilty of locking you in?\n",
    "\n",
    "* For a first pass lets say that you only get one chance to switch and you can't combo multiple goats\n",
    "* Monty is now removing cars and goats without discrimination\n",
    "\n",
    "Chances of switching:\n",
    "$$C_{sw} = \\dfrac{1}{N_{Doors}}\\left(N_{Cars} + \\sum_{x}^{N_{Goats}}(1-P_x) \\right) $$\n",
    "\n",
    "\n",
    "\n",
    "\n",
    "Chances of picking a Car when you swicth:\n",
    "$$C_{c} = \\dfrac{R_{Cars}}{N_{Doors}-2} $$\n",
    "\n",
    "\n",
    "\n",
    "\n",
    "Where $R_{Cars}$ are the remaining cars, we can't know this for sure so we have to estimate:\n",
    "$$ \\hat R_{Cars} =  \\dfrac{N_{Cars}(N_{Doors} - 2)}{N_{Doors}} $$\n",
    "\n",
    "Finally, we can get chances of winning:\n",
    "$$ C_w = C_c C_{sw} =  \\dfrac{N_{Cars}}{N_{Doors}^2}\\left(N_{Cars} + \\sum_{x}^{N_{Goats}}(1-P_x) \\right) $$"
   ]
  },
  {
   "cell_type": "code",
   "execution_count": 5,
   "id": "0ef1b13f",
   "metadata": {},
   "outputs": [
    {
     "name": "stdout",
     "output_type": "stream",
     "text": [
      "0.17698\n",
      "0.17785043600243225\n"
     ]
    }
   ],
   "source": [
    "# Build a list of random length with a random numvber of cars and goats\n",
    "\n",
    "W=0\n",
    "L=0\n",
    "Switches=0\n",
    "N = 50000 #lots more variability need a few more runs to focus the number\n",
    "\n",
    "Nd = random.randint(200,300) #Number of Doors\n",
    "Doors = ['G' if random.uniform(0,1)<=0.756 else 'C' for _ in range(Nd)] #Get goats and cars behind doors\n",
    "Nc = Doors.count('C') #Number of cars\n",
    "Ng = Doors.count('G') #Number of goats\n",
    "\n",
    "# Ensure at least one car and one goat in the list\n",
    "if 'C' not in Doors:\n",
    "    Doors.append('C')\n",
    "if 'G' not in Doors:\n",
    "    Doors.append('G')\n",
    "    \n",
    "P_list = [0.0 if i == 'C' else random.uniform(0,1) for i in Doors] #list of probabilities\n",
    "\n",
    "\n",
    "for i in range(N):\n",
    "    Doors2 = list(zip(Doors, P_list))\n",
    "    random.shuffle(Doors2)\n",
    "    pick = random.randint(0, len(Doors2)-1)\n",
    "    \n",
    "    if Doors2[pick][0] == 'G':\n",
    "        if random.uniform(0,1)<=Doors2[pick][1]:\n",
    "            L+=1\n",
    "        else:\n",
    "            Doors2.pop(pick)\n",
    "            Doors2.pop(random.randint(0, len(Doors2)-1)) #Monty removes a random door\n",
    "            Switches += 1\n",
    "            pick = random.randint(0, len(Doors2)-1)\n",
    "            if Doors2[pick][0] == 'G':\n",
    "                L+=1\n",
    "            else:\n",
    "                W+=1\n",
    "            \n",
    "    else:\n",
    "        Doors2.pop(pick)\n",
    "        Doors2.pop(random.randint(0, len(Doors2)-1)) #Monty removes a random door\n",
    "        Switches += 1\n",
    "        pick = random.randint(0, len(Doors2)-1)\n",
    "        if Doors2[pick][0] == 'G':\n",
    "            L+=1\n",
    "        else:\n",
    "            W+=1\n",
    "\n",
    "Csw = sum([1-x if x!=0 else 0 for x in P_list])\n",
    "\n",
    "print(W/N)\n",
    "print(Nc/Nd**2*(Nc+Csw))"
   ]
  },
  {
   "cell_type": "markdown",
   "id": "5abe97aa",
   "metadata": {},
   "source": [
    "Is there a rule we can use that determines if switching is a good idea? We can work out switching power by dividing the chances of switching by the chances of winning:\n",
    "$$S_p = \\dfrac{C_w}{C_{sw}} = \\dfrac{N_{Cars}}{N_{Doors}^2}N_{Doors} = \\dfrac{N_{Cars}}{N_{Doors}} = C_{c}$$"
   ]
  },
  {
   "cell_type": "code",
   "execution_count": 6,
   "id": "3e33dbce",
   "metadata": {},
   "outputs": [
    {
     "name": "stdout",
     "output_type": "stream",
     "text": [
      "0.2591063480908878\n",
      "0.2608695652173913\n"
     ]
    }
   ],
   "source": [
    "print(W/Switches)\n",
    "print(Nc/Nd)"
   ]
  },
  {
   "cell_type": "markdown",
   "id": "813f7256",
   "metadata": {},
   "source": [
    "so, weirdly, what decides if you should switch is the ratio of the cars to the number of doors and there is no bearing on the probabilty of getting locked in if you pick a goat.\n",
    "\n",
    "$$\n",
    "Strategy =\n",
    "\\begin{cases}\n",
    "\\text{Switch} & \\quad \\text{when $N_c/N_d < 0.5$}\\\\ \n",
    "\\text{Coin Toss} & \\quad \\text{when $N_c/N_d = 0.5$}\\\\\n",
    "\\text{Stick} & \\quad \\text{when $N_c/N_d > 0.5$}\n",
    "\\end{cases}\n",
    "$$\n",
    "\n",
    "---\n",
    "\n",
    "Okay that's all the time I can waste for now. May come back in the future to probe further!"
   ]
  }
 ],
 "metadata": {
  "kernelspec": {
   "display_name": "Python 3 (ipykernel)",
   "language": "python",
   "name": "python3"
  },
  "language_info": {
   "codemirror_mode": {
    "name": "ipython",
    "version": 3
   },
   "file_extension": ".py",
   "mimetype": "text/x-python",
   "name": "python",
   "nbconvert_exporter": "python",
   "pygments_lexer": "ipython3",
   "version": "3.9.12"
  }
 },
 "nbformat": 4,
 "nbformat_minor": 5
}
